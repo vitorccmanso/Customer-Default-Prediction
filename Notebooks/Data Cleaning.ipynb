{
 "cells": [
  {
   "cell_type": "markdown",
   "metadata": {},
   "source": [
    "# Data Cleaning"
   ]
  },
  {
   "cell_type": "code",
   "execution_count": 2,
   "metadata": {},
   "outputs": [],
   "source": [
    "import sys, os\n",
    "sys.path.append(\"../\")\n",
    "import warnings\n",
    "warnings.filterwarnings(\"ignore\")\n",
    "import pandas as pd\n",
    "import matplotlib.pyplot as plt\n",
    "import seaborn as sns\n",
    "import re\n",
    "from utils.cleaning import DiscrepancyIdentifier, CleaningFinalDataFrames, cleaning_pipeline"
   ]
  },
  {
   "cell_type": "markdown",
   "metadata": {},
   "source": [
    "# Data Ingestion"
   ]
  },
  {
   "cell_type": "code",
   "execution_count": 3,
   "metadata": {},
   "outputs": [
    {
     "name": "stdout",
     "output_type": "stream",
     "text": [
      "Shape: (1315, 8)\n",
      "Shape: (24401, 4)\n",
      "Shape: (77414, 7)\n",
      "Shape: (12275, 6)\n"
     ]
    }
   ],
   "source": [
    "df_register = pd.read_csv(\"./Data/base_cadastral.csv\")\n",
    "print(f\"Shape: {df_register.shape}\")\n",
    "df_info = pd.read_csv(\"./Data/base_info.csv\")\n",
    "print(f\"Shape: {df_info.shape}\")\n",
    "df_payments = pd.read_csv(\"./Data/base_pagamentos_desenvolvimento.csv\")\n",
    "print(f\"Shape: {df_payments.shape}\")\n",
    "df_test = pd.read_csv(\"./Data/base_pagamentos_teste.csv\")\n",
    "print(f\"Shape: {df_test.shape}\")"
   ]
  },
  {
   "cell_type": "markdown",
   "metadata": {},
   "source": [
    "# Base Cadastral"
   ]
  },
  {
   "cell_type": "markdown",
   "metadata": {},
   "source": [
    "## General Look at the Data"
   ]
  },
  {
   "cell_type": "code",
   "execution_count": 4,
   "metadata": {},
   "outputs": [
    {
     "data": {
      "text/html": [
       "<div>\n",
       "<style scoped>\n",
       "    .dataframe tbody tr th:only-of-type {\n",
       "        vertical-align: middle;\n",
       "    }\n",
       "\n",
       "    .dataframe tbody tr th {\n",
       "        vertical-align: top;\n",
       "    }\n",
       "\n",
       "    .dataframe thead th {\n",
       "        text-align: right;\n",
       "    }\n",
       "</style>\n",
       "<table border=\"1\" class=\"dataframe\">\n",
       "  <thead>\n",
       "    <tr style=\"text-align: right;\">\n",
       "      <th></th>\n",
       "      <th>ID_CLIENTE</th>\n",
       "      <th>DATA_CADASTRO</th>\n",
       "      <th>DDD</th>\n",
       "      <th>FLAG_PF</th>\n",
       "      <th>SEGMENTO_INDUSTRIAL</th>\n",
       "      <th>DOMINIO_EMAIL</th>\n",
       "      <th>PORTE</th>\n",
       "      <th>CEP_2_DIG</th>\n",
       "    </tr>\n",
       "  </thead>\n",
       "  <tbody>\n",
       "    <tr>\n",
       "      <th>0</th>\n",
       "      <td>1661240395903230676</td>\n",
       "      <td>2013-08-22</td>\n",
       "      <td>99</td>\n",
       "      <td>NaN</td>\n",
       "      <td>Serviços</td>\n",
       "      <td>YAHOO</td>\n",
       "      <td>PEQUENO</td>\n",
       "      <td>65</td>\n",
       "    </tr>\n",
       "    <tr>\n",
       "      <th>1</th>\n",
       "      <td>8274986328479596038</td>\n",
       "      <td>2017-01-25</td>\n",
       "      <td>31</td>\n",
       "      <td>NaN</td>\n",
       "      <td>Comércio</td>\n",
       "      <td>YAHOO</td>\n",
       "      <td>MEDIO</td>\n",
       "      <td>77</td>\n",
       "    </tr>\n",
       "    <tr>\n",
       "      <th>2</th>\n",
       "      <td>345447888460137901</td>\n",
       "      <td>2000-08-15</td>\n",
       "      <td>75</td>\n",
       "      <td>NaN</td>\n",
       "      <td>Serviços</td>\n",
       "      <td>HOTMAIL</td>\n",
       "      <td>PEQUENO</td>\n",
       "      <td>48</td>\n",
       "    </tr>\n",
       "    <tr>\n",
       "      <th>3</th>\n",
       "      <td>1003144834589372198</td>\n",
       "      <td>2017-08-06</td>\n",
       "      <td>49</td>\n",
       "      <td>NaN</td>\n",
       "      <td>Serviços</td>\n",
       "      <td>OUTLOOK</td>\n",
       "      <td>PEQUENO</td>\n",
       "      <td>89</td>\n",
       "    </tr>\n",
       "    <tr>\n",
       "      <th>4</th>\n",
       "      <td>324916756972236008</td>\n",
       "      <td>2011-02-14</td>\n",
       "      <td>88</td>\n",
       "      <td>NaN</td>\n",
       "      <td>Serviços</td>\n",
       "      <td>GMAIL</td>\n",
       "      <td>GRANDE</td>\n",
       "      <td>62</td>\n",
       "    </tr>\n",
       "  </tbody>\n",
       "</table>\n",
       "</div>"
      ],
      "text/plain": [
       "            ID_CLIENTE DATA_CADASTRO DDD FLAG_PF SEGMENTO_INDUSTRIAL  \\\n",
       "0  1661240395903230676    2013-08-22  99     NaN            Serviços   \n",
       "1  8274986328479596038    2017-01-25  31     NaN            Comércio   \n",
       "2   345447888460137901    2000-08-15  75     NaN            Serviços   \n",
       "3  1003144834589372198    2017-08-06  49     NaN            Serviços   \n",
       "4   324916756972236008    2011-02-14  88     NaN            Serviços   \n",
       "\n",
       "  DOMINIO_EMAIL    PORTE CEP_2_DIG  \n",
       "0         YAHOO  PEQUENO        65  \n",
       "1         YAHOO    MEDIO        77  \n",
       "2       HOTMAIL  PEQUENO        48  \n",
       "3       OUTLOOK  PEQUENO        89  \n",
       "4         GMAIL   GRANDE        62  "
      ]
     },
     "execution_count": 4,
     "metadata": {},
     "output_type": "execute_result"
    }
   ],
   "source": [
    "df_register.head()"
   ]
  },
  {
   "cell_type": "code",
   "execution_count": 5,
   "metadata": {},
   "outputs": [
    {
     "name": "stdout",
     "output_type": "stream",
     "text": [
      "<class 'pandas.core.frame.DataFrame'>\n",
      "RangeIndex: 1315 entries, 0 to 1314\n",
      "Data columns (total 8 columns):\n",
      " #   Column               Non-Null Count  Dtype \n",
      "---  ------               --------------  ----- \n",
      " 0   ID_CLIENTE           1315 non-null   int64 \n",
      " 1   DATA_CADASTRO        1315 non-null   object\n",
      " 2   DDD                  1078 non-null   object\n",
      " 3   FLAG_PF              66 non-null     object\n",
      " 4   SEGMENTO_INDUSTRIAL  1232 non-null   object\n",
      " 5   DOMINIO_EMAIL        1285 non-null   object\n",
      " 6   PORTE                1274 non-null   object\n",
      " 7   CEP_2_DIG            1315 non-null   object\n",
      "dtypes: int64(1), object(7)\n",
      "memory usage: 82.3+ KB\n"
     ]
    }
   ],
   "source": [
    "df_register.info()"
   ]
  },
  {
   "cell_type": "code",
   "execution_count": 6,
   "metadata": {},
   "outputs": [
    {
     "data": {
      "text/plain": [
       "ID_CLIENTE                0\n",
       "DATA_CADASTRO             0\n",
       "DDD                     237\n",
       "FLAG_PF                1249\n",
       "SEGMENTO_INDUSTRIAL      83\n",
       "DOMINIO_EMAIL            30\n",
       "PORTE                    41\n",
       "CEP_2_DIG                 0\n",
       "dtype: int64"
      ]
     },
     "execution_count": 6,
     "metadata": {},
     "output_type": "execute_result"
    }
   ],
   "source": [
    "df_register.isna().sum()"
   ]
  },
  {
   "cell_type": "markdown",
   "metadata": {},
   "source": [
    "### Observations:\n",
    "- The dataset contains a lot of missing values\n",
    "- Only `ID_CLIENTE` is a numerical column\n",
    "- The column `FLAG_PF` is almost exclusively made of NaN values\n",
    "\n",
    "### Impact:\n",
    "- The column `FLAG_PF` can be modified into two categories, removing all NaN values\n",
    "- `DDD` can be investigated further to see if there's a relation with `CEP_2_DIG` (since these digits indicate the state, like the DDD), so the missing values can be imputed correctly\n",
    "- `PORTE` can be investigated when joined with the \"base info\" `NO_FUNCIONARIOS` to see if theres any relation between company size and number of workers\n",
    "- In all other columns with NaN values, a new category will be made to input the missing values, to avoid any type of miss judgement. I could replace the NaN values with existing values of each column, based on the proportion of them, but since we are dealing with real customer data, I don't think is right or even ethical to just assume something about the client\n",
    "- It would be interesting to divide the `DDD` and `CEP_2_DIG` columns into the regions that their values indicates"
   ]
  },
  {
   "cell_type": "markdown",
   "metadata": {},
   "source": [
    "### Analyzing the column `DDD`"
   ]
  },
  {
   "cell_type": "code",
   "execution_count": 7,
   "metadata": {},
   "outputs": [
    {
     "data": {
      "text/plain": [
       "237"
      ]
     },
     "execution_count": 7,
     "metadata": {},
     "output_type": "execute_result"
    }
   ],
   "source": [
    "# Checking total NaN values\n",
    "df_register[\"DDD\"].isna().sum()"
   ]
  },
  {
   "cell_type": "code",
   "execution_count": 8,
   "metadata": {},
   "outputs": [
    {
     "data": {
      "text/html": [
       "<div>\n",
       "<style scoped>\n",
       "    .dataframe tbody tr th:only-of-type {\n",
       "        vertical-align: middle;\n",
       "    }\n",
       "\n",
       "    .dataframe tbody tr th {\n",
       "        vertical-align: top;\n",
       "    }\n",
       "\n",
       "    .dataframe thead th {\n",
       "        text-align: right;\n",
       "    }\n",
       "</style>\n",
       "<table border=\"1\" class=\"dataframe\">\n",
       "  <thead>\n",
       "    <tr style=\"text-align: right;\">\n",
       "      <th></th>\n",
       "      <th>ID_CLIENTE</th>\n",
       "      <th>DATA_CADASTRO</th>\n",
       "      <th>DDD</th>\n",
       "      <th>FLAG_PF</th>\n",
       "      <th>SEGMENTO_INDUSTRIAL</th>\n",
       "      <th>DOMINIO_EMAIL</th>\n",
       "      <th>PORTE</th>\n",
       "      <th>CEP_2_DIG</th>\n",
       "    </tr>\n",
       "  </thead>\n",
       "  <tbody>\n",
       "    <tr>\n",
       "      <th>55</th>\n",
       "      <td>2025898153078562640</td>\n",
       "      <td>2007-06-17</td>\n",
       "      <td>(3</td>\n",
       "      <td>NaN</td>\n",
       "      <td>Serviços</td>\n",
       "      <td>GMAIL</td>\n",
       "      <td>PEQUENO</td>\n",
       "      <td>36</td>\n",
       "    </tr>\n",
       "    <tr>\n",
       "      <th>70</th>\n",
       "      <td>3218792504195936313</td>\n",
       "      <td>2000-08-15</td>\n",
       "      <td>(2</td>\n",
       "      <td>NaN</td>\n",
       "      <td>Serviços</td>\n",
       "      <td>HOTMAIL</td>\n",
       "      <td>MEDIO</td>\n",
       "      <td>21</td>\n",
       "    </tr>\n",
       "    <tr>\n",
       "      <th>124</th>\n",
       "      <td>6759864637454708017</td>\n",
       "      <td>2000-08-15</td>\n",
       "      <td>(6</td>\n",
       "      <td>NaN</td>\n",
       "      <td>Serviços</td>\n",
       "      <td>GMAIL</td>\n",
       "      <td>GRANDE</td>\n",
       "      <td>68</td>\n",
       "    </tr>\n",
       "    <tr>\n",
       "      <th>156</th>\n",
       "      <td>1210783884008131648</td>\n",
       "      <td>2000-08-15</td>\n",
       "      <td>(1</td>\n",
       "      <td>NaN</td>\n",
       "      <td>Serviços</td>\n",
       "      <td>YAHOO</td>\n",
       "      <td>MEDIO</td>\n",
       "      <td>13</td>\n",
       "    </tr>\n",
       "    <tr>\n",
       "      <th>213</th>\n",
       "      <td>5791518044186095039</td>\n",
       "      <td>2000-08-15</td>\n",
       "      <td>(9</td>\n",
       "      <td>NaN</td>\n",
       "      <td>Serviços</td>\n",
       "      <td>HOTMAIL</td>\n",
       "      <td>PEQUENO</td>\n",
       "      <td>68</td>\n",
       "    </tr>\n",
       "  </tbody>\n",
       "</table>\n",
       "</div>"
      ],
      "text/plain": [
       "              ID_CLIENTE DATA_CADASTRO DDD FLAG_PF SEGMENTO_INDUSTRIAL  \\\n",
       "55   2025898153078562640    2007-06-17  (3     NaN            Serviços   \n",
       "70   3218792504195936313    2000-08-15  (2     NaN            Serviços   \n",
       "124  6759864637454708017    2000-08-15  (6     NaN            Serviços   \n",
       "156  1210783884008131648    2000-08-15  (1     NaN            Serviços   \n",
       "213  5791518044186095039    2000-08-15  (9     NaN            Serviços   \n",
       "\n",
       "    DOMINIO_EMAIL    PORTE CEP_2_DIG  \n",
       "55          GMAIL  PEQUENO        36  \n",
       "70        HOTMAIL    MEDIO        21  \n",
       "124         GMAIL   GRANDE        68  \n",
       "156         YAHOO    MEDIO        13  \n",
       "213       HOTMAIL  PEQUENO        68  "
      ]
     },
     "execution_count": 8,
     "metadata": {},
     "output_type": "execute_result"
    }
   ],
   "source": [
    "# Checking for non digits characters\n",
    "non_digit = df_register[df_register[\"DDD\"].str.match(r'^[^\\d]', na=False)]\n",
    "non_digit.head()"
   ]
  },
  {
   "cell_type": "code",
   "execution_count": 9,
   "metadata": {},
   "outputs": [
    {
     "data": {
      "text/plain": [
       "95"
      ]
     },
     "execution_count": 9,
     "metadata": {},
     "output_type": "execute_result"
    }
   ],
   "source": [
    "non_digit.shape[0]"
   ]
  },
  {
   "cell_type": "code",
   "execution_count": 10,
   "metadata": {},
   "outputs": [
    {
     "data": {
      "text/html": [
       "<div>\n",
       "<style scoped>\n",
       "    .dataframe tbody tr th:only-of-type {\n",
       "        vertical-align: middle;\n",
       "    }\n",
       "\n",
       "    .dataframe tbody tr th {\n",
       "        vertical-align: top;\n",
       "    }\n",
       "\n",
       "    .dataframe thead th {\n",
       "        text-align: right;\n",
       "    }\n",
       "</style>\n",
       "<table border=\"1\" class=\"dataframe\">\n",
       "  <thead>\n",
       "    <tr style=\"text-align: right;\">\n",
       "      <th></th>\n",
       "      <th>ID_CLIENTE</th>\n",
       "      <th>DATA_CADASTRO</th>\n",
       "      <th>DDD</th>\n",
       "      <th>FLAG_PF</th>\n",
       "      <th>SEGMENTO_INDUSTRIAL</th>\n",
       "      <th>DOMINIO_EMAIL</th>\n",
       "      <th>PORTE</th>\n",
       "      <th>CEP_2_DIG</th>\n",
       "      <th>ESTADO_CEP</th>\n",
       "      <th>ESTADO_DDD</th>\n",
       "    </tr>\n",
       "  </thead>\n",
       "  <tbody>\n",
       "    <tr>\n",
       "      <th>1</th>\n",
       "      <td>8274986328479596038</td>\n",
       "      <td>2017-01-25</td>\n",
       "      <td>31.0</td>\n",
       "      <td>NaN</td>\n",
       "      <td>Comércio</td>\n",
       "      <td>YAHOO</td>\n",
       "      <td>MEDIO</td>\n",
       "      <td>77</td>\n",
       "      <td>TO</td>\n",
       "      <td>MG</td>\n",
       "    </tr>\n",
       "    <tr>\n",
       "      <th>6</th>\n",
       "      <td>1276604410881911401</td>\n",
       "      <td>2000-08-15</td>\n",
       "      <td>67.0</td>\n",
       "      <td>NaN</td>\n",
       "      <td>Indústria</td>\n",
       "      <td>YAHOO</td>\n",
       "      <td>PEQUENO</td>\n",
       "      <td>38</td>\n",
       "      <td>MG</td>\n",
       "      <td>MS</td>\n",
       "    </tr>\n",
       "    <tr>\n",
       "      <th>8</th>\n",
       "      <td>4530631557358349711</td>\n",
       "      <td>2000-08-15</td>\n",
       "      <td>11.0</td>\n",
       "      <td>NaN</td>\n",
       "      <td>Serviços</td>\n",
       "      <td>HOTMAIL</td>\n",
       "      <td>PEQUENO</td>\n",
       "      <td>55</td>\n",
       "      <td>PE</td>\n",
       "      <td>SP</td>\n",
       "    </tr>\n",
       "    <tr>\n",
       "      <th>16</th>\n",
       "      <td>6795467882769787169</td>\n",
       "      <td>2014-06-23</td>\n",
       "      <td>11.0</td>\n",
       "      <td>NaN</td>\n",
       "      <td>Serviços</td>\n",
       "      <td>HOTMAIL</td>\n",
       "      <td>PEQUENO</td>\n",
       "      <td>98</td>\n",
       "      <td>RS</td>\n",
       "      <td>SP</td>\n",
       "    </tr>\n",
       "    <tr>\n",
       "      <th>25</th>\n",
       "      <td>1078687383992817574</td>\n",
       "      <td>2000-08-15</td>\n",
       "      <td>43.0</td>\n",
       "      <td>NaN</td>\n",
       "      <td>Indústria</td>\n",
       "      <td>OUTLOOK</td>\n",
       "      <td>GRANDE</td>\n",
       "      <td>67</td>\n",
       "      <td>PA</td>\n",
       "      <td>PR</td>\n",
       "    </tr>\n",
       "    <tr>\n",
       "      <th>...</th>\n",
       "      <td>...</td>\n",
       "      <td>...</td>\n",
       "      <td>...</td>\n",
       "      <td>...</td>\n",
       "      <td>...</td>\n",
       "      <td>...</td>\n",
       "      <td>...</td>\n",
       "      <td>...</td>\n",
       "      <td>...</td>\n",
       "      <td>...</td>\n",
       "    </tr>\n",
       "    <tr>\n",
       "      <th>1284</th>\n",
       "      <td>1415340753324392369</td>\n",
       "      <td>2004-08-13</td>\n",
       "      <td>11.0</td>\n",
       "      <td>NaN</td>\n",
       "      <td>Comércio</td>\n",
       "      <td>HOTMAIL</td>\n",
       "      <td>MEDIO</td>\n",
       "      <td>23</td>\n",
       "      <td>RJ</td>\n",
       "      <td>SP</td>\n",
       "    </tr>\n",
       "    <tr>\n",
       "      <th>1287</th>\n",
       "      <td>2423599281313969582</td>\n",
       "      <td>2016-06-20</td>\n",
       "      <td>11.0</td>\n",
       "      <td>NaN</td>\n",
       "      <td>Serviços</td>\n",
       "      <td>HOTMAIL</td>\n",
       "      <td>MEDIO</td>\n",
       "      <td>61</td>\n",
       "      <td>CE</td>\n",
       "      <td>SP</td>\n",
       "    </tr>\n",
       "    <tr>\n",
       "      <th>1289</th>\n",
       "      <td>3965955331400146488</td>\n",
       "      <td>2017-11-29</td>\n",
       "      <td>65.0</td>\n",
       "      <td>X</td>\n",
       "      <td>NaN</td>\n",
       "      <td>YAHOO</td>\n",
       "      <td>MEDIO</td>\n",
       "      <td>78</td>\n",
       "      <td>RO</td>\n",
       "      <td>MT</td>\n",
       "    </tr>\n",
       "    <tr>\n",
       "      <th>1290</th>\n",
       "      <td>3156580765759568020</td>\n",
       "      <td>2011-01-31</td>\n",
       "      <td>11.0</td>\n",
       "      <td>NaN</td>\n",
       "      <td>Serviços</td>\n",
       "      <td>AOL</td>\n",
       "      <td>GRANDE</td>\n",
       "      <td>48</td>\n",
       "      <td>BA</td>\n",
       "      <td>SP</td>\n",
       "    </tr>\n",
       "    <tr>\n",
       "      <th>1310</th>\n",
       "      <td>3431426889924624821</td>\n",
       "      <td>2020-08-13</td>\n",
       "      <td>92.0</td>\n",
       "      <td>NaN</td>\n",
       "      <td>Serviços</td>\n",
       "      <td>HOTMAIL</td>\n",
       "      <td>MEDIO</td>\n",
       "      <td>69</td>\n",
       "      <td>RR</td>\n",
       "      <td>AM</td>\n",
       "    </tr>\n",
       "  </tbody>\n",
       "</table>\n",
       "<p>247 rows × 10 columns</p>\n",
       "</div>"
      ],
      "text/plain": [
       "               ID_CLIENTE DATA_CADASTRO   DDD FLAG_PF SEGMENTO_INDUSTRIAL  \\\n",
       "1     8274986328479596038    2017-01-25  31.0     NaN            Comércio   \n",
       "6     1276604410881911401    2000-08-15  67.0     NaN           Indústria   \n",
       "8     4530631557358349711    2000-08-15  11.0     NaN            Serviços   \n",
       "16    6795467882769787169    2014-06-23  11.0     NaN            Serviços   \n",
       "25    1078687383992817574    2000-08-15  43.0     NaN           Indústria   \n",
       "...                   ...           ...   ...     ...                 ...   \n",
       "1284  1415340753324392369    2004-08-13  11.0     NaN            Comércio   \n",
       "1287  2423599281313969582    2016-06-20  11.0     NaN            Serviços   \n",
       "1289  3965955331400146488    2017-11-29  65.0       X                 NaN   \n",
       "1290  3156580765759568020    2011-01-31  11.0     NaN            Serviços   \n",
       "1310  3431426889924624821    2020-08-13  92.0     NaN            Serviços   \n",
       "\n",
       "     DOMINIO_EMAIL    PORTE CEP_2_DIG ESTADO_CEP ESTADO_DDD  \n",
       "1            YAHOO    MEDIO        77         TO         MG  \n",
       "6            YAHOO  PEQUENO        38         MG         MS  \n",
       "8          HOTMAIL  PEQUENO        55         PE         SP  \n",
       "16         HOTMAIL  PEQUENO        98         RS         SP  \n",
       "25         OUTLOOK   GRANDE        67         PA         PR  \n",
       "...            ...      ...       ...        ...        ...  \n",
       "1284       HOTMAIL    MEDIO        23         RJ         SP  \n",
       "1287       HOTMAIL    MEDIO        61         CE         SP  \n",
       "1289         YAHOO    MEDIO        78         RO         MT  \n",
       "1290           AOL   GRANDE        48         BA         SP  \n",
       "1310       HOTMAIL    MEDIO        69         RR         AM  \n",
       "\n",
       "[247 rows x 10 columns]"
      ]
     },
     "execution_count": 10,
     "metadata": {},
     "output_type": "execute_result"
    }
   ],
   "source": [
    "# Checking for discrepancies between DDD and CEP_2_DIG, based on location\n",
    "analyzer = DiscrepancyIdentifier()\n",
    "analyzer.identify_discrepancies(df_register)"
   ]
  },
  {
   "cell_type": "markdown",
   "metadata": {},
   "source": [
    "### Observations:\n",
    "- The column has 237 NaN values\n",
    "- There are 95 registers where there's a non digit character in the `DDD` column\n",
    "- We have 247 cases of a discrepancy between the registered address and the informed DDD \n",
    "\n",
    "### Impact:\n",
    "- Since there's a lot of cases with location discrepancies, it's not possible to accurately input the missing DDDs based by the `CEP_2_DIG` column\n",
    "- The same thing applies to the DDDs with non digit characters, where it's impossible to know if the user misspelled a number or if the system automatically types the \"(\" and the user didn't notice it, so he typed himself\n",
    "- For these reasons, all DDDs with non digit characters and the missing ones will be replaced with a new category of \"Unknown\""
   ]
  },
  {
   "cell_type": "markdown",
   "metadata": {},
   "source": [
    "### Analyzing the column `PORTE`"
   ]
  },
  {
   "cell_type": "code",
   "execution_count": 11,
   "metadata": {},
   "outputs": [
    {
     "data": {
      "text/html": [
       "<div>\n",
       "<style scoped>\n",
       "    .dataframe tbody tr th:only-of-type {\n",
       "        vertical-align: middle;\n",
       "    }\n",
       "\n",
       "    .dataframe tbody tr th {\n",
       "        vertical-align: top;\n",
       "    }\n",
       "\n",
       "    .dataframe thead th {\n",
       "        text-align: right;\n",
       "    }\n",
       "</style>\n",
       "<table border=\"1\" class=\"dataframe\">\n",
       "  <thead>\n",
       "    <tr style=\"text-align: right;\">\n",
       "      <th></th>\n",
       "      <th>mean</th>\n",
       "      <th>median</th>\n",
       "      <th>std</th>\n",
       "      <th>count</th>\n",
       "      <th>min</th>\n",
       "      <th>max</th>\n",
       "    </tr>\n",
       "    <tr>\n",
       "      <th>PORTE</th>\n",
       "      <th></th>\n",
       "      <th></th>\n",
       "      <th></th>\n",
       "      <th></th>\n",
       "      <th></th>\n",
       "      <th></th>\n",
       "    </tr>\n",
       "  </thead>\n",
       "  <tbody>\n",
       "    <tr>\n",
       "      <th>GRANDE</th>\n",
       "      <td>118.770952</td>\n",
       "      <td>119.0</td>\n",
       "      <td>20.549856</td>\n",
       "      <td>8985</td>\n",
       "      <td>0.0</td>\n",
       "      <td>198.0</td>\n",
       "    </tr>\n",
       "    <tr>\n",
       "      <th>MEDIO</th>\n",
       "      <td>118.123186</td>\n",
       "      <td>117.0</td>\n",
       "      <td>21.094832</td>\n",
       "      <td>9717</td>\n",
       "      <td>0.0</td>\n",
       "      <td>181.0</td>\n",
       "    </tr>\n",
       "    <tr>\n",
       "      <th>PEQUENO</th>\n",
       "      <td>115.158667</td>\n",
       "      <td>117.0</td>\n",
       "      <td>23.814295</td>\n",
       "      <td>5042</td>\n",
       "      <td>0.0</td>\n",
       "      <td>187.0</td>\n",
       "    </tr>\n",
       "  </tbody>\n",
       "</table>\n",
       "</div>"
      ],
      "text/plain": [
       "               mean  median        std  count  min    max\n",
       "PORTE                                                    \n",
       "GRANDE   118.770952   119.0  20.549856   8985  0.0  198.0\n",
       "MEDIO    118.123186   117.0  21.094832   9717  0.0  181.0\n",
       "PEQUENO  115.158667   117.0  23.814295   5042  0.0  187.0"
      ]
     },
     "execution_count": 11,
     "metadata": {},
     "output_type": "execute_result"
    }
   ],
   "source": [
    "# Joining the two dataframses to check for a relation between PORTE and NO_FUNCIONARIOS\n",
    "merge_registr_info = pd.merge(df_info, df_register, on=\"ID_CLIENTE\", how=\"left\")\n",
    "merge_registr_info.groupby(\"PORTE\")[\"NO_FUNCIONARIOS\"].agg([\"mean\", \"median\", \"std\", \"count\", \"min\", \"max\"])"
   ]
  },
  {
   "cell_type": "markdown",
   "metadata": {},
   "source": [
    "### Observations:\n",
    "- The distribution of workers between the different company sizes are almost the same\n",
    "\n",
    "### Impact:\n",
    "- An \"Unknown\" category will have to be created for the `PORTE` column"
   ]
  },
  {
   "cell_type": "markdown",
   "metadata": {},
   "source": [
    "## Cleaning Pipeline for \"Base Cadastral\""
   ]
  },
  {
   "cell_type": "markdown",
   "metadata": {},
   "source": [
    "### Based on the analysis, is clear that the main problem with this dataset in the amount of missing values. To fix this, the following data cleaning steps will be taken:\n",
    "- Fill all missing data of `FLAG_PF` with a 0 or 1, with the number 1 representing the \"X\" values\n",
    "- Create a category called \"Unknown\" to fill all missing data of the other columns\n",
    "- Categorize the columns `DDD` and `CEP_2_DIG` into the 5 regions of the country, for a better EDA and reduced dimentionality for training the model"
   ]
  },
  {
   "cell_type": "code",
   "execution_count": 12,
   "metadata": {},
   "outputs": [],
   "source": [
    "df_register = pd.read_csv(\"./Data/base_cadastral.csv\")\n",
    "cleaning_pipeline(df_register, \"Data\", \"clean_base_cadastral\")"
   ]
  },
  {
   "cell_type": "code",
   "execution_count": 13,
   "metadata": {},
   "outputs": [
    {
     "data": {
      "text/html": [
       "<div>\n",
       "<style scoped>\n",
       "    .dataframe tbody tr th:only-of-type {\n",
       "        vertical-align: middle;\n",
       "    }\n",
       "\n",
       "    .dataframe tbody tr th {\n",
       "        vertical-align: top;\n",
       "    }\n",
       "\n",
       "    .dataframe thead th {\n",
       "        text-align: right;\n",
       "    }\n",
       "</style>\n",
       "<table border=\"1\" class=\"dataframe\">\n",
       "  <thead>\n",
       "    <tr style=\"text-align: right;\">\n",
       "      <th></th>\n",
       "      <th>ID_CLIENTE</th>\n",
       "      <th>DATA_CADASTRO</th>\n",
       "      <th>DDD</th>\n",
       "      <th>FLAG_PF</th>\n",
       "      <th>SEGMENTO_INDUSTRIAL</th>\n",
       "      <th>DOMINIO_EMAIL</th>\n",
       "      <th>PORTE</th>\n",
       "      <th>CEP_2_DIG</th>\n",
       "    </tr>\n",
       "  </thead>\n",
       "  <tbody>\n",
       "    <tr>\n",
       "      <th>0</th>\n",
       "      <td>1661240395903230676</td>\n",
       "      <td>2013-08-22</td>\n",
       "      <td>Nordeste</td>\n",
       "      <td>0</td>\n",
       "      <td>Serviços</td>\n",
       "      <td>YAHOO</td>\n",
       "      <td>PEQUENO</td>\n",
       "      <td>Nordeste</td>\n",
       "    </tr>\n",
       "    <tr>\n",
       "      <th>1</th>\n",
       "      <td>8274986328479596038</td>\n",
       "      <td>2017-01-25</td>\n",
       "      <td>Sudeste</td>\n",
       "      <td>0</td>\n",
       "      <td>Comércio</td>\n",
       "      <td>YAHOO</td>\n",
       "      <td>MEDIO</td>\n",
       "      <td>Norte</td>\n",
       "    </tr>\n",
       "    <tr>\n",
       "      <th>2</th>\n",
       "      <td>345447888460137901</td>\n",
       "      <td>2000-08-15</td>\n",
       "      <td>Nordeste</td>\n",
       "      <td>0</td>\n",
       "      <td>Serviços</td>\n",
       "      <td>HOTMAIL</td>\n",
       "      <td>PEQUENO</td>\n",
       "      <td>Nordeste</td>\n",
       "    </tr>\n",
       "    <tr>\n",
       "      <th>3</th>\n",
       "      <td>1003144834589372198</td>\n",
       "      <td>2017-08-06</td>\n",
       "      <td>Sul</td>\n",
       "      <td>0</td>\n",
       "      <td>Serviços</td>\n",
       "      <td>OUTLOOK</td>\n",
       "      <td>PEQUENO</td>\n",
       "      <td>Sul</td>\n",
       "    </tr>\n",
       "    <tr>\n",
       "      <th>4</th>\n",
       "      <td>324916756972236008</td>\n",
       "      <td>2011-02-14</td>\n",
       "      <td>Nordeste</td>\n",
       "      <td>0</td>\n",
       "      <td>Serviços</td>\n",
       "      <td>GMAIL</td>\n",
       "      <td>GRANDE</td>\n",
       "      <td>Nordeste</td>\n",
       "    </tr>\n",
       "  </tbody>\n",
       "</table>\n",
       "</div>"
      ],
      "text/plain": [
       "            ID_CLIENTE DATA_CADASTRO       DDD  FLAG_PF SEGMENTO_INDUSTRIAL  \\\n",
       "0  1661240395903230676    2013-08-22  Nordeste        0            Serviços   \n",
       "1  8274986328479596038    2017-01-25   Sudeste        0            Comércio   \n",
       "2   345447888460137901    2000-08-15  Nordeste        0            Serviços   \n",
       "3  1003144834589372198    2017-08-06       Sul        0            Serviços   \n",
       "4   324916756972236008    2011-02-14  Nordeste        0            Serviços   \n",
       "\n",
       "  DOMINIO_EMAIL    PORTE CEP_2_DIG  \n",
       "0         YAHOO  PEQUENO  Nordeste  \n",
       "1         YAHOO    MEDIO     Norte  \n",
       "2       HOTMAIL  PEQUENO  Nordeste  \n",
       "3       OUTLOOK  PEQUENO       Sul  \n",
       "4         GMAIL   GRANDE  Nordeste  "
      ]
     },
     "execution_count": 13,
     "metadata": {},
     "output_type": "execute_result"
    }
   ],
   "source": [
    "df_clean = pd.read_csv(\"./Data/clean_base_cadastral.csv\")\n",
    "df_clean.head()"
   ]
  },
  {
   "cell_type": "code",
   "execution_count": 14,
   "metadata": {},
   "outputs": [
    {
     "data": {
      "text/plain": [
       "ID_CLIENTE             0\n",
       "DATA_CADASTRO          0\n",
       "DDD                    0\n",
       "FLAG_PF                0\n",
       "SEGMENTO_INDUSTRIAL    0\n",
       "DOMINIO_EMAIL          0\n",
       "PORTE                  0\n",
       "CEP_2_DIG              0\n",
       "dtype: int64"
      ]
     },
     "execution_count": 14,
     "metadata": {},
     "output_type": "execute_result"
    }
   ],
   "source": [
    "df_clean.isna().sum()"
   ]
  },
  {
   "cell_type": "markdown",
   "metadata": {},
   "source": [
    "# Base Info"
   ]
  },
  {
   "cell_type": "markdown",
   "metadata": {},
   "source": [
    "## General Look at the Data"
   ]
  },
  {
   "cell_type": "code",
   "execution_count": 15,
   "metadata": {},
   "outputs": [
    {
     "data": {
      "text/html": [
       "<div>\n",
       "<style scoped>\n",
       "    .dataframe tbody tr th:only-of-type {\n",
       "        vertical-align: middle;\n",
       "    }\n",
       "\n",
       "    .dataframe tbody tr th {\n",
       "        vertical-align: top;\n",
       "    }\n",
       "\n",
       "    .dataframe thead th {\n",
       "        text-align: right;\n",
       "    }\n",
       "</style>\n",
       "<table border=\"1\" class=\"dataframe\">\n",
       "  <thead>\n",
       "    <tr style=\"text-align: right;\">\n",
       "      <th></th>\n",
       "      <th>ID_CLIENTE</th>\n",
       "      <th>SAFRA_REF</th>\n",
       "      <th>RENDA_MES_ANTERIOR</th>\n",
       "      <th>NO_FUNCIONARIOS</th>\n",
       "    </tr>\n",
       "  </thead>\n",
       "  <tbody>\n",
       "    <tr>\n",
       "      <th>0</th>\n",
       "      <td>1661240395903230676</td>\n",
       "      <td>2018-09</td>\n",
       "      <td>16913.0</td>\n",
       "      <td>92.0</td>\n",
       "    </tr>\n",
       "    <tr>\n",
       "      <th>1</th>\n",
       "      <td>8274986328479596038</td>\n",
       "      <td>2018-09</td>\n",
       "      <td>106430.0</td>\n",
       "      <td>141.0</td>\n",
       "    </tr>\n",
       "    <tr>\n",
       "      <th>2</th>\n",
       "      <td>345447888460137901</td>\n",
       "      <td>2018-09</td>\n",
       "      <td>707439.0</td>\n",
       "      <td>99.0</td>\n",
       "    </tr>\n",
       "    <tr>\n",
       "      <th>3</th>\n",
       "      <td>1003144834589372198</td>\n",
       "      <td>2018-09</td>\n",
       "      <td>239659.0</td>\n",
       "      <td>96.0</td>\n",
       "    </tr>\n",
       "    <tr>\n",
       "      <th>4</th>\n",
       "      <td>324916756972236008</td>\n",
       "      <td>2018-09</td>\n",
       "      <td>203123.0</td>\n",
       "      <td>103.0</td>\n",
       "    </tr>\n",
       "  </tbody>\n",
       "</table>\n",
       "</div>"
      ],
      "text/plain": [
       "            ID_CLIENTE SAFRA_REF  RENDA_MES_ANTERIOR  NO_FUNCIONARIOS\n",
       "0  1661240395903230676   2018-09             16913.0             92.0\n",
       "1  8274986328479596038   2018-09            106430.0            141.0\n",
       "2   345447888460137901   2018-09            707439.0             99.0\n",
       "3  1003144834589372198   2018-09            239659.0             96.0\n",
       "4   324916756972236008   2018-09            203123.0            103.0"
      ]
     },
     "execution_count": 15,
     "metadata": {},
     "output_type": "execute_result"
    }
   ],
   "source": [
    "df_info.head()"
   ]
  },
  {
   "cell_type": "code",
   "execution_count": 16,
   "metadata": {},
   "outputs": [
    {
     "name": "stdout",
     "output_type": "stream",
     "text": [
      "<class 'pandas.core.frame.DataFrame'>\n",
      "RangeIndex: 24401 entries, 0 to 24400\n",
      "Data columns (total 4 columns):\n",
      " #   Column              Non-Null Count  Dtype  \n",
      "---  ------              --------------  -----  \n",
      " 0   ID_CLIENTE          24401 non-null  int64  \n",
      " 1   SAFRA_REF           24401 non-null  object \n",
      " 2   RENDA_MES_ANTERIOR  24401 non-null  float64\n",
      " 3   NO_FUNCIONARIOS     24401 non-null  float64\n",
      "dtypes: float64(2), int64(1), object(1)\n",
      "memory usage: 762.7+ KB\n"
     ]
    }
   ],
   "source": [
    "df_info.info()"
   ]
  },
  {
   "cell_type": "code",
   "execution_count": 17,
   "metadata": {},
   "outputs": [
    {
     "data": {
      "text/plain": [
       "ID_CLIENTE            0\n",
       "SAFRA_REF             0\n",
       "RENDA_MES_ANTERIOR    0\n",
       "NO_FUNCIONARIOS       0\n",
       "dtype: int64"
      ]
     },
     "execution_count": 17,
     "metadata": {},
     "output_type": "execute_result"
    }
   ],
   "source": [
    "df_info.isna().sum()"
   ]
  },
  {
   "cell_type": "markdown",
   "metadata": {},
   "source": [
    "### Observations:\n",
    "- The dataset is completely clean, with every column with the correct data type and no missing data"
   ]
  },
  {
   "cell_type": "markdown",
   "metadata": {},
   "source": [
    "# Base Pagamentos Desenvolvimento"
   ]
  },
  {
   "cell_type": "markdown",
   "metadata": {},
   "source": [
    "## General Look at the Data"
   ]
  },
  {
   "cell_type": "code",
   "execution_count": 18,
   "metadata": {},
   "outputs": [
    {
     "data": {
      "text/html": [
       "<div>\n",
       "<style scoped>\n",
       "    .dataframe tbody tr th:only-of-type {\n",
       "        vertical-align: middle;\n",
       "    }\n",
       "\n",
       "    .dataframe tbody tr th {\n",
       "        vertical-align: top;\n",
       "    }\n",
       "\n",
       "    .dataframe thead th {\n",
       "        text-align: right;\n",
       "    }\n",
       "</style>\n",
       "<table border=\"1\" class=\"dataframe\">\n",
       "  <thead>\n",
       "    <tr style=\"text-align: right;\">\n",
       "      <th></th>\n",
       "      <th>ID_CLIENTE</th>\n",
       "      <th>SAFRA_REF</th>\n",
       "      <th>DATA_EMISSAO_DOCUMENTO</th>\n",
       "      <th>DATA_PAGAMENTO</th>\n",
       "      <th>DATA_VENCIMENTO</th>\n",
       "      <th>VALOR_A_PAGAR</th>\n",
       "      <th>TAXA</th>\n",
       "    </tr>\n",
       "  </thead>\n",
       "  <tbody>\n",
       "    <tr>\n",
       "      <th>0</th>\n",
       "      <td>1661240395903230676</td>\n",
       "      <td>2018-08</td>\n",
       "      <td>2018-08-17</td>\n",
       "      <td>2018-09-06</td>\n",
       "      <td>2018-09-06</td>\n",
       "      <td>35516.41</td>\n",
       "      <td>6.99</td>\n",
       "    </tr>\n",
       "    <tr>\n",
       "      <th>1</th>\n",
       "      <td>1661240395903230676</td>\n",
       "      <td>2018-08</td>\n",
       "      <td>2018-08-19</td>\n",
       "      <td>2018-09-11</td>\n",
       "      <td>2018-09-10</td>\n",
       "      <td>17758.21</td>\n",
       "      <td>6.99</td>\n",
       "    </tr>\n",
       "    <tr>\n",
       "      <th>2</th>\n",
       "      <td>1661240395903230676</td>\n",
       "      <td>2018-08</td>\n",
       "      <td>2018-08-26</td>\n",
       "      <td>2018-09-18</td>\n",
       "      <td>2018-09-17</td>\n",
       "      <td>17431.96</td>\n",
       "      <td>6.99</td>\n",
       "    </tr>\n",
       "    <tr>\n",
       "      <th>3</th>\n",
       "      <td>1661240395903230676</td>\n",
       "      <td>2018-08</td>\n",
       "      <td>2018-08-30</td>\n",
       "      <td>2018-10-11</td>\n",
       "      <td>2018-10-05</td>\n",
       "      <td>1341.00</td>\n",
       "      <td>6.99</td>\n",
       "    </tr>\n",
       "    <tr>\n",
       "      <th>4</th>\n",
       "      <td>1661240395903230676</td>\n",
       "      <td>2018-08</td>\n",
       "      <td>2018-08-31</td>\n",
       "      <td>2018-09-20</td>\n",
       "      <td>2018-09-20</td>\n",
       "      <td>21309.85</td>\n",
       "      <td>6.99</td>\n",
       "    </tr>\n",
       "  </tbody>\n",
       "</table>\n",
       "</div>"
      ],
      "text/plain": [
       "            ID_CLIENTE SAFRA_REF DATA_EMISSAO_DOCUMENTO DATA_PAGAMENTO  \\\n",
       "0  1661240395903230676   2018-08             2018-08-17     2018-09-06   \n",
       "1  1661240395903230676   2018-08             2018-08-19     2018-09-11   \n",
       "2  1661240395903230676   2018-08             2018-08-26     2018-09-18   \n",
       "3  1661240395903230676   2018-08             2018-08-30     2018-10-11   \n",
       "4  1661240395903230676   2018-08             2018-08-31     2018-09-20   \n",
       "\n",
       "  DATA_VENCIMENTO  VALOR_A_PAGAR  TAXA  \n",
       "0      2018-09-06       35516.41  6.99  \n",
       "1      2018-09-10       17758.21  6.99  \n",
       "2      2018-09-17       17431.96  6.99  \n",
       "3      2018-10-05        1341.00  6.99  \n",
       "4      2018-09-20       21309.85  6.99  "
      ]
     },
     "execution_count": 18,
     "metadata": {},
     "output_type": "execute_result"
    }
   ],
   "source": [
    "df_payments.head()"
   ]
  },
  {
   "cell_type": "code",
   "execution_count": 19,
   "metadata": {},
   "outputs": [
    {
     "name": "stdout",
     "output_type": "stream",
     "text": [
      "<class 'pandas.core.frame.DataFrame'>\n",
      "RangeIndex: 77414 entries, 0 to 77413\n",
      "Data columns (total 7 columns):\n",
      " #   Column                  Non-Null Count  Dtype  \n",
      "---  ------                  --------------  -----  \n",
      " 0   ID_CLIENTE              77414 non-null  int64  \n",
      " 1   SAFRA_REF               77414 non-null  object \n",
      " 2   DATA_EMISSAO_DOCUMENTO  77414 non-null  object \n",
      " 3   DATA_PAGAMENTO          77414 non-null  object \n",
      " 4   DATA_VENCIMENTO         77414 non-null  object \n",
      " 5   VALOR_A_PAGAR           77414 non-null  float64\n",
      " 6   TAXA                    77414 non-null  float64\n",
      "dtypes: float64(2), int64(1), object(4)\n",
      "memory usage: 4.1+ MB\n"
     ]
    }
   ],
   "source": [
    "df_payments.info()"
   ]
  },
  {
   "cell_type": "code",
   "execution_count": 20,
   "metadata": {},
   "outputs": [
    {
     "data": {
      "text/plain": [
       "ID_CLIENTE                0\n",
       "SAFRA_REF                 0\n",
       "DATA_EMISSAO_DOCUMENTO    0\n",
       "DATA_PAGAMENTO            0\n",
       "DATA_VENCIMENTO           0\n",
       "VALOR_A_PAGAR             0\n",
       "TAXA                      0\n",
       "dtype: int64"
      ]
     },
     "execution_count": 20,
     "metadata": {},
     "output_type": "execute_result"
    }
   ],
   "source": [
    "df_payments.isna().sum()"
   ]
  },
  {
   "cell_type": "markdown",
   "metadata": {},
   "source": [
    "### Observations:\n",
    "- The dataset is completely clean, with every column with the correct data type and no missing data"
   ]
  },
  {
   "cell_type": "markdown",
   "metadata": {},
   "source": [
    "# Base Pagamentos Teste"
   ]
  },
  {
   "cell_type": "markdown",
   "metadata": {},
   "source": [
    "## General Look at the Data"
   ]
  },
  {
   "cell_type": "code",
   "execution_count": 21,
   "metadata": {},
   "outputs": [
    {
     "data": {
      "text/html": [
       "<div>\n",
       "<style scoped>\n",
       "    .dataframe tbody tr th:only-of-type {\n",
       "        vertical-align: middle;\n",
       "    }\n",
       "\n",
       "    .dataframe tbody tr th {\n",
       "        vertical-align: top;\n",
       "    }\n",
       "\n",
       "    .dataframe thead th {\n",
       "        text-align: right;\n",
       "    }\n",
       "</style>\n",
       "<table border=\"1\" class=\"dataframe\">\n",
       "  <thead>\n",
       "    <tr style=\"text-align: right;\">\n",
       "      <th></th>\n",
       "      <th>ID_CLIENTE</th>\n",
       "      <th>SAFRA_REF</th>\n",
       "      <th>DATA_EMISSAO_DOCUMENTO</th>\n",
       "      <th>DATA_VENCIMENTO</th>\n",
       "      <th>VALOR_A_PAGAR</th>\n",
       "      <th>TAXA</th>\n",
       "    </tr>\n",
       "  </thead>\n",
       "  <tbody>\n",
       "    <tr>\n",
       "      <th>0</th>\n",
       "      <td>5058298901476893676</td>\n",
       "      <td>2021-07</td>\n",
       "      <td>2021-07-14</td>\n",
       "      <td>2021-08-04</td>\n",
       "      <td>11204.75</td>\n",
       "      <td>4.99</td>\n",
       "    </tr>\n",
       "    <tr>\n",
       "      <th>1</th>\n",
       "      <td>274692171162531764</td>\n",
       "      <td>2021-07</td>\n",
       "      <td>2021-07-08</td>\n",
       "      <td>2021-08-23</td>\n",
       "      <td>60718.50</td>\n",
       "      <td>5.99</td>\n",
       "    </tr>\n",
       "    <tr>\n",
       "      <th>2</th>\n",
       "      <td>274692171162531764</td>\n",
       "      <td>2021-07</td>\n",
       "      <td>2021-07-11</td>\n",
       "      <td>2021-08-25</td>\n",
       "      <td>60718.50</td>\n",
       "      <td>5.99</td>\n",
       "    </tr>\n",
       "    <tr>\n",
       "      <th>3</th>\n",
       "      <td>274692171162531764</td>\n",
       "      <td>2021-07</td>\n",
       "      <td>2021-07-16</td>\n",
       "      <td>2021-08-30</td>\n",
       "      <td>62250.00</td>\n",
       "      <td>5.99</td>\n",
       "    </tr>\n",
       "    <tr>\n",
       "      <th>4</th>\n",
       "      <td>465309249432033993</td>\n",
       "      <td>2021-07</td>\n",
       "      <td>2021-07-05</td>\n",
       "      <td>2021-07-30</td>\n",
       "      <td>26593.95</td>\n",
       "      <td>6.99</td>\n",
       "    </tr>\n",
       "  </tbody>\n",
       "</table>\n",
       "</div>"
      ],
      "text/plain": [
       "            ID_CLIENTE SAFRA_REF DATA_EMISSAO_DOCUMENTO DATA_VENCIMENTO  \\\n",
       "0  5058298901476893676   2021-07             2021-07-14      2021-08-04   \n",
       "1   274692171162531764   2021-07             2021-07-08      2021-08-23   \n",
       "2   274692171162531764   2021-07             2021-07-11      2021-08-25   \n",
       "3   274692171162531764   2021-07             2021-07-16      2021-08-30   \n",
       "4   465309249432033993   2021-07             2021-07-05      2021-07-30   \n",
       "\n",
       "   VALOR_A_PAGAR  TAXA  \n",
       "0       11204.75  4.99  \n",
       "1       60718.50  5.99  \n",
       "2       60718.50  5.99  \n",
       "3       62250.00  5.99  \n",
       "4       26593.95  6.99  "
      ]
     },
     "execution_count": 21,
     "metadata": {},
     "output_type": "execute_result"
    }
   ],
   "source": [
    "df_test.head()"
   ]
  },
  {
   "cell_type": "code",
   "execution_count": 22,
   "metadata": {},
   "outputs": [
    {
     "name": "stdout",
     "output_type": "stream",
     "text": [
      "<class 'pandas.core.frame.DataFrame'>\n",
      "RangeIndex: 12275 entries, 0 to 12274\n",
      "Data columns (total 6 columns):\n",
      " #   Column                  Non-Null Count  Dtype  \n",
      "---  ------                  --------------  -----  \n",
      " 0   ID_CLIENTE              12275 non-null  int64  \n",
      " 1   SAFRA_REF               12275 non-null  object \n",
      " 2   DATA_EMISSAO_DOCUMENTO  12275 non-null  object \n",
      " 3   DATA_VENCIMENTO         12275 non-null  object \n",
      " 4   VALOR_A_PAGAR           12275 non-null  float64\n",
      " 5   TAXA                    12275 non-null  float64\n",
      "dtypes: float64(2), int64(1), object(3)\n",
      "memory usage: 575.5+ KB\n"
     ]
    }
   ],
   "source": [
    "df_test.info()"
   ]
  },
  {
   "cell_type": "code",
   "execution_count": 23,
   "metadata": {},
   "outputs": [
    {
     "data": {
      "text/plain": [
       "ID_CLIENTE                0\n",
       "SAFRA_REF                 0\n",
       "DATA_EMISSAO_DOCUMENTO    0\n",
       "DATA_VENCIMENTO           0\n",
       "VALOR_A_PAGAR             0\n",
       "TAXA                      0\n",
       "dtype: int64"
      ]
     },
     "execution_count": 23,
     "metadata": {},
     "output_type": "execute_result"
    }
   ],
   "source": [
    "df_test.isna().sum()"
   ]
  },
  {
   "cell_type": "markdown",
   "metadata": {},
   "source": [
    "### Observations:\n",
    "- The dataset is completely clean, with every column with the correct data type and no missing data"
   ]
  },
  {
   "cell_type": "markdown",
   "metadata": {},
   "source": [
    "# Joining the datasets"
   ]
  },
  {
   "cell_type": "markdown",
   "metadata": {},
   "source": [
    "## Train Dataframe"
   ]
  },
  {
   "cell_type": "code",
   "execution_count": 24,
   "metadata": {},
   "outputs": [
    {
     "data": {
      "text/plain": [
       "77414"
      ]
     },
     "execution_count": 24,
     "metadata": {},
     "output_type": "execute_result"
    }
   ],
   "source": [
    "payments_and_register = pd.merge(df_payments, df_clean, on=\"ID_CLIENTE\", how=\"left\")\n",
    "payments_final = pd.merge(payments_and_register, df_info, on=[\"ID_CLIENTE\", \"SAFRA_REF\"], how=\"left\")\n",
    "payments_final.shape[0]"
   ]
  },
  {
   "cell_type": "code",
   "execution_count": 25,
   "metadata": {},
   "outputs": [
    {
     "data": {
      "text/plain": [
       "ID_CLIENTE                   0\n",
       "SAFRA_REF                    0\n",
       "DATA_EMISSAO_DOCUMENTO       0\n",
       "DATA_PAGAMENTO               0\n",
       "DATA_VENCIMENTO              0\n",
       "VALOR_A_PAGAR                0\n",
       "TAXA                         0\n",
       "DATA_CADASTRO                0\n",
       "DDD                          0\n",
       "FLAG_PF                      0\n",
       "SEGMENTO_INDUSTRIAL          0\n",
       "DOMINIO_EMAIL                0\n",
       "PORTE                        0\n",
       "CEP_2_DIG                    0\n",
       "RENDA_MES_ANTERIOR        3937\n",
       "NO_FUNCIONARIOS           3937\n",
       "dtype: int64"
      ]
     },
     "execution_count": 25,
     "metadata": {},
     "output_type": "execute_result"
    }
   ],
   "source": [
    "payments_final.isna().sum()"
   ]
  },
  {
   "cell_type": "markdown",
   "metadata": {},
   "source": [
    "### Observations:\n",
    "- The left join is used so that no payment data is lost, ensuring that the model can train with all available data\n",
    "- When the joins are finished, there are missing values on the `RENDA_MES_ANTERIOR` and `NO_FUNCIONARIOS` columns. These values appear because some clients on the payments dataframe are not in the info dataframe for the specific `SAFRA_REF`\n",
    "\n",
    "### Impact:\n",
    "- To fix these missing values, it's possible to group the dataset by `ID_CLIENTE` and get the median of `RENDA_MES_ANTERIOR` and `NO_FUNCIONARIOS`, and use these values to replace the NaN ones. The median is used to be less sensible to extreme values and outliers"
   ]
  },
  {
   "cell_type": "code",
   "execution_count": 26,
   "metadata": {},
   "outputs": [],
   "source": [
    "cleaner = CleaningFinalDataFrames()\n",
    "columns_to_fill = {'RENDA_MES_ANTERIOR': 'RENDA_MES_ANTERIOR', 'NO_FUNCIONARIOS': 'NO_FUNCIONARIOS'}\n",
    "payments_final = cleaner.fill_missing_values(payments_final, columns_to_fill, payments_final)"
   ]
  },
  {
   "cell_type": "code",
   "execution_count": 27,
   "metadata": {},
   "outputs": [
    {
     "data": {
      "text/plain": [
       "ID_CLIENTE                 0\n",
       "SAFRA_REF                  0\n",
       "DATA_EMISSAO_DOCUMENTO     0\n",
       "DATA_PAGAMENTO             0\n",
       "DATA_VENCIMENTO            0\n",
       "VALOR_A_PAGAR              0\n",
       "TAXA                       0\n",
       "DATA_CADASTRO              0\n",
       "DDD                        0\n",
       "FLAG_PF                    0\n",
       "SEGMENTO_INDUSTRIAL        0\n",
       "DOMINIO_EMAIL              0\n",
       "PORTE                      0\n",
       "CEP_2_DIG                  0\n",
       "RENDA_MES_ANTERIOR        93\n",
       "NO_FUNCIONARIOS           93\n",
       "dtype: int64"
      ]
     },
     "execution_count": 27,
     "metadata": {},
     "output_type": "execute_result"
    }
   ],
   "source": [
    "payments_final.isna().sum()"
   ]
  },
  {
   "cell_type": "markdown",
   "metadata": {},
   "source": [
    "### Observations:\n",
    "- Now, only 93 NaN values remains. These values are from the IDs where all payment data didn't match the `SAFRA_REF` column\n",
    "\n",
    "### Impact:\n",
    "- To fix this, it's possible to got through the info dataframe and get the median values from there to replace the missing values here"
   ]
  },
  {
   "cell_type": "code",
   "execution_count": 28,
   "metadata": {},
   "outputs": [],
   "source": [
    "payments_final = cleaner.fill_missing_values(payments_final, columns_to_fill, df_info)"
   ]
  },
  {
   "cell_type": "code",
   "execution_count": 29,
   "metadata": {},
   "outputs": [
    {
     "data": {
      "text/plain": [
       "ID_CLIENTE                0\n",
       "SAFRA_REF                 0\n",
       "DATA_EMISSAO_DOCUMENTO    0\n",
       "DATA_PAGAMENTO            0\n",
       "DATA_VENCIMENTO           0\n",
       "VALOR_A_PAGAR             0\n",
       "TAXA                      0\n",
       "DATA_CADASTRO             0\n",
       "DDD                       0\n",
       "FLAG_PF                   0\n",
       "SEGMENTO_INDUSTRIAL       0\n",
       "DOMINIO_EMAIL             0\n",
       "PORTE                     0\n",
       "CEP_2_DIG                 0\n",
       "RENDA_MES_ANTERIOR        0\n",
       "NO_FUNCIONARIOS           0\n",
       "dtype: int64"
      ]
     },
     "execution_count": 29,
     "metadata": {},
     "output_type": "execute_result"
    }
   ],
   "source": [
    "payments_final.isna().sum()"
   ]
  },
  {
   "cell_type": "markdown",
   "metadata": {},
   "source": [
    "## Test Dataframe"
   ]
  },
  {
   "cell_type": "code",
   "execution_count": 30,
   "metadata": {},
   "outputs": [
    {
     "data": {
      "text/plain": [
       "12275"
      ]
     },
     "execution_count": 30,
     "metadata": {},
     "output_type": "execute_result"
    }
   ],
   "source": [
    "test_and_register = pd.merge(df_test, df_clean, on=\"ID_CLIENTE\", how=\"left\")\n",
    "test_final = pd.merge(test_and_register, df_info, on=[\"ID_CLIENTE\", \"SAFRA_REF\"], how=\"left\")\n",
    "test_final.shape[0]"
   ]
  },
  {
   "cell_type": "code",
   "execution_count": 31,
   "metadata": {},
   "outputs": [
    {
     "data": {
      "text/plain": [
       "ID_CLIENTE                  0\n",
       "SAFRA_REF                   0\n",
       "DATA_EMISSAO_DOCUMENTO      0\n",
       "DATA_VENCIMENTO             0\n",
       "VALOR_A_PAGAR               0\n",
       "TAXA                        0\n",
       "DATA_CADASTRO              38\n",
       "DDD                        38\n",
       "FLAG_PF                    38\n",
       "SEGMENTO_INDUSTRIAL        38\n",
       "DOMINIO_EMAIL              38\n",
       "PORTE                      38\n",
       "CEP_2_DIG                  38\n",
       "RENDA_MES_ANTERIOR        414\n",
       "NO_FUNCIONARIOS           414\n",
       "dtype: int64"
      ]
     },
     "execution_count": 31,
     "metadata": {},
     "output_type": "execute_result"
    }
   ],
   "source": [
    "test_final.isna().sum()"
   ]
  },
  {
   "cell_type": "markdown",
   "metadata": {},
   "source": [
    "### Observations:\n",
    "- The same problem as the training dataset appears\n",
    "- When the joins are finished, there are missing values on the `RENDA_MES_ANTERIOR` and `NO_FUNCIONARIOS` columns. These values appear because some clients on the test dataframe are not in the info dataframe for the specific `SAFRA_REF`\n",
    "- Additionally, there are missing values on all columns of the register dataframe. This happens because some clients on the test dataframe are not in the register dataframe\n",
    "\n",
    "### Impact:\n",
    "- To fix these missing values, it's possible to group the dataset by `ID_CLIENTE` and get the median of `RENDA_MES_ANTERIOR` and `NO_FUNCIONARIOS`, and use these values to replace the NaN ones. The median is used to be less sensible to extreme values and outliers\n",
    "- To fix the new batch of missing values, the only possible approach is to fill everything with the \"Unknown\" category, since these clients do not have the information of these columns anywhere else"
   ]
  },
  {
   "cell_type": "code",
   "execution_count": 32,
   "metadata": {},
   "outputs": [],
   "source": [
    "# Replace with median values\n",
    "columns_to_fill = {'RENDA_MES_ANTERIOR': 'RENDA_MES_ANTERIOR', 'NO_FUNCIONARIOS': 'NO_FUNCIONARIOS'}\n",
    "test_final = cleaner.fill_missing_values(test_final, columns_to_fill, test_final)\n",
    "test_final = cleaner.fill_missing_values(test_final, columns_to_fill, df_info)\n",
    "\n",
    "# Replace with \"Unknown\" category\n",
    "columns_register = ['DATA_CADASTRO', 'DDD', 'FLAG_PF', 'SEGMENTO_INDUSTRIAL', 'DOMINIO_EMAIL', 'PORTE', 'CEP_2_DIG']\n",
    "test_final[columns_register] = test_final[columns_register].fillna(\"Unknown\")"
   ]
  },
  {
   "cell_type": "code",
   "execution_count": 33,
   "metadata": {},
   "outputs": [
    {
     "data": {
      "text/plain": [
       "ID_CLIENTE                0\n",
       "SAFRA_REF                 0\n",
       "DATA_EMISSAO_DOCUMENTO    0\n",
       "DATA_VENCIMENTO           0\n",
       "VALOR_A_PAGAR             0\n",
       "TAXA                      0\n",
       "DATA_CADASTRO             0\n",
       "DDD                       0\n",
       "FLAG_PF                   0\n",
       "SEGMENTO_INDUSTRIAL       0\n",
       "DOMINIO_EMAIL             0\n",
       "PORTE                     0\n",
       "CEP_2_DIG                 0\n",
       "RENDA_MES_ANTERIOR        0\n",
       "NO_FUNCIONARIOS           0\n",
       "dtype: int64"
      ]
     },
     "execution_count": 33,
     "metadata": {},
     "output_type": "execute_result"
    }
   ],
   "source": [
    "test_final.isna().sum()"
   ]
  },
  {
   "cell_type": "markdown",
   "metadata": {},
   "source": [
    "# Saving the dataframes"
   ]
  },
  {
   "cell_type": "code",
   "execution_count": 34,
   "metadata": {},
   "outputs": [],
   "source": [
    "payments_final.to_csv(\"./Data/clean_payments_final\", index=False)\n",
    "test_final.to_csv(\"./Data/clean_test_final\", index=False)"
   ]
  }
 ],
 "metadata": {
  "kernelspec": {
   "display_name": "pred-env",
   "language": "python",
   "name": "python3"
  },
  "language_info": {
   "codemirror_mode": {
    "name": "ipython",
    "version": 3
   },
   "file_extension": ".py",
   "mimetype": "text/x-python",
   "name": "python",
   "nbconvert_exporter": "python",
   "pygments_lexer": "ipython3",
   "version": "3.12.7"
  }
 },
 "nbformat": 4,
 "nbformat_minor": 2
}
