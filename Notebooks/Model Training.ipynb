{
 "cells": [
  {
   "cell_type": "markdown",
   "metadata": {},
   "source": [
    "# Model Training"
   ]
  },
  {
   "cell_type": "code",
   "execution_count": 1,
   "metadata": {},
   "outputs": [],
   "source": [
    "import pandas as pd\n",
    "import ast\n",
    "import warnings\n",
    "import os\n",
    "warnings.filterwarnings(\"ignore\")\n",
    "import sys\n",
    "sys.path.append(\"../\")\n",
    "from utils.machine_learning import DataPreprocess"
   ]
  },
  {
   "cell_type": "code",
   "execution_count": 2,
   "metadata": {},
   "outputs": [],
   "source": [
    "preprocess = DataPreprocess()"
   ]
  },
  {
   "cell_type": "markdown",
   "metadata": {},
   "source": [
    "# Data"
   ]
  },
  {
   "cell_type": "code",
   "execution_count": 3,
   "metadata": {},
   "outputs": [
    {
     "name": "stdout",
     "output_type": "stream",
     "text": [
      "Shape: (77414, 13)\n"
     ]
    },
    {
     "data": {
      "text/html": [
       "<div>\n",
       "<style scoped>\n",
       "    .dataframe tbody tr th:only-of-type {\n",
       "        vertical-align: middle;\n",
       "    }\n",
       "\n",
       "    .dataframe tbody tr th {\n",
       "        vertical-align: top;\n",
       "    }\n",
       "\n",
       "    .dataframe thead th {\n",
       "        text-align: right;\n",
       "    }\n",
       "</style>\n",
       "<table border=\"1\" class=\"dataframe\">\n",
       "  <thead>\n",
       "    <tr style=\"text-align: right;\">\n",
       "      <th></th>\n",
       "      <th>VALOR_A_PAGAR</th>\n",
       "      <th>TAXA</th>\n",
       "      <th>DDD</th>\n",
       "      <th>SEGMENTO_INDUSTRIAL</th>\n",
       "      <th>DOMINIO_EMAIL</th>\n",
       "      <th>PORTE</th>\n",
       "      <th>CEP_2_DIG</th>\n",
       "      <th>RENDA_MES_ANTERIOR</th>\n",
       "      <th>NO_FUNCIONARIOS</th>\n",
       "      <th>INADIMPLENTE</th>\n",
       "      <th>month_vencimento</th>\n",
       "      <th>days_until_due</th>\n",
       "      <th>days_since_registration</th>\n",
       "    </tr>\n",
       "  </thead>\n",
       "  <tbody>\n",
       "    <tr>\n",
       "      <th>0</th>\n",
       "      <td>35516.41</td>\n",
       "      <td>6.99</td>\n",
       "      <td>Nordeste</td>\n",
       "      <td>Serviços</td>\n",
       "      <td>YAHOO</td>\n",
       "      <td>PEQUENO</td>\n",
       "      <td>Nordeste</td>\n",
       "      <td>252109.0</td>\n",
       "      <td>99.0</td>\n",
       "      <td>0</td>\n",
       "      <td>9</td>\n",
       "      <td>36</td>\n",
       "      <td>1821</td>\n",
       "    </tr>\n",
       "    <tr>\n",
       "      <th>1</th>\n",
       "      <td>17758.21</td>\n",
       "      <td>6.99</td>\n",
       "      <td>Nordeste</td>\n",
       "      <td>Serviços</td>\n",
       "      <td>YAHOO</td>\n",
       "      <td>PEQUENO</td>\n",
       "      <td>Nordeste</td>\n",
       "      <td>252109.0</td>\n",
       "      <td>99.0</td>\n",
       "      <td>0</td>\n",
       "      <td>9</td>\n",
       "      <td>40</td>\n",
       "      <td>1823</td>\n",
       "    </tr>\n",
       "    <tr>\n",
       "      <th>2</th>\n",
       "      <td>17431.96</td>\n",
       "      <td>6.99</td>\n",
       "      <td>Nordeste</td>\n",
       "      <td>Serviços</td>\n",
       "      <td>YAHOO</td>\n",
       "      <td>PEQUENO</td>\n",
       "      <td>Nordeste</td>\n",
       "      <td>252109.0</td>\n",
       "      <td>99.0</td>\n",
       "      <td>0</td>\n",
       "      <td>9</td>\n",
       "      <td>47</td>\n",
       "      <td>1830</td>\n",
       "    </tr>\n",
       "    <tr>\n",
       "      <th>3</th>\n",
       "      <td>1341.00</td>\n",
       "      <td>6.99</td>\n",
       "      <td>Nordeste</td>\n",
       "      <td>Serviços</td>\n",
       "      <td>YAHOO</td>\n",
       "      <td>PEQUENO</td>\n",
       "      <td>Nordeste</td>\n",
       "      <td>252109.0</td>\n",
       "      <td>99.0</td>\n",
       "      <td>1</td>\n",
       "      <td>10</td>\n",
       "      <td>65</td>\n",
       "      <td>1834</td>\n",
       "    </tr>\n",
       "    <tr>\n",
       "      <th>4</th>\n",
       "      <td>21309.85</td>\n",
       "      <td>6.99</td>\n",
       "      <td>Nordeste</td>\n",
       "      <td>Serviços</td>\n",
       "      <td>YAHOO</td>\n",
       "      <td>PEQUENO</td>\n",
       "      <td>Nordeste</td>\n",
       "      <td>252109.0</td>\n",
       "      <td>99.0</td>\n",
       "      <td>0</td>\n",
       "      <td>9</td>\n",
       "      <td>50</td>\n",
       "      <td>1835</td>\n",
       "    </tr>\n",
       "  </tbody>\n",
       "</table>\n",
       "</div>"
      ],
      "text/plain": [
       "   VALOR_A_PAGAR  TAXA       DDD SEGMENTO_INDUSTRIAL DOMINIO_EMAIL    PORTE  \\\n",
       "0       35516.41  6.99  Nordeste            Serviços         YAHOO  PEQUENO   \n",
       "1       17758.21  6.99  Nordeste            Serviços         YAHOO  PEQUENO   \n",
       "2       17431.96  6.99  Nordeste            Serviços         YAHOO  PEQUENO   \n",
       "3        1341.00  6.99  Nordeste            Serviços         YAHOO  PEQUENO   \n",
       "4       21309.85  6.99  Nordeste            Serviços         YAHOO  PEQUENO   \n",
       "\n",
       "  CEP_2_DIG  RENDA_MES_ANTERIOR  NO_FUNCIONARIOS  INADIMPLENTE  \\\n",
       "0  Nordeste            252109.0             99.0             0   \n",
       "1  Nordeste            252109.0             99.0             0   \n",
       "2  Nordeste            252109.0             99.0             0   \n",
       "3  Nordeste            252109.0             99.0             1   \n",
       "4  Nordeste            252109.0             99.0             0   \n",
       "\n",
       "   month_vencimento  days_until_due  days_since_registration  \n",
       "0                 9              36                     1821  \n",
       "1                 9              40                     1823  \n",
       "2                 9              47                     1830  \n",
       "3                10              65                     1834  \n",
       "4                 9              50                     1835  "
      ]
     },
     "execution_count": 3,
     "metadata": {},
     "output_type": "execute_result"
    }
   ],
   "source": [
    "df = pd.read_csv(\"./Data/model_training_payments.csv\")\n",
    "print(f\"Shape: {df.shape}\")\n",
    "df.head()"
   ]
  },
  {
   "cell_type": "markdown",
   "metadata": {},
   "source": [
    "# Preprocessing the Data"
   ]
  },
  {
   "cell_type": "markdown",
   "metadata": {},
   "source": [
    "### Based on the information gathered during **Feature Engineering**:\n",
    "- `VALOR_A_PAGAR`, `RENDA_MES_ANTERIOR`, `days_until_due` = Cubic Root Transformation\n",
    "- `NO_FUNCIONARIOS`, `days_since_registration` = No transformation needed"
   ]
  },
  {
   "cell_type": "markdown",
   "metadata": {},
   "source": [
    "### For the preprocess step, the data will be divided into a train and test split. The numerical columns will be transformed using the log and cubic transformations, and then they will be scaled using the Robust Scaler in reason of the outliers and because `TAXA` and `month_vencimento` columns won't go through the statistical transformation step. Also, onehot encoding will be performed on the categorical columns of the dataset. The preprocessor will be saved in the **Artifacts** folder\n",
    "### Regarding the test dataset, the parameter **test_data** will be a flag to see if the data that is going to be preprocessed is the training or test one. Since in the test dataset the column `DATA_CADASTRO` has **Unknown** values, and this column was used together with `DATA_EMISSAO_DOCUMENTO` to create a new feature, the **Unknown** values of `DATA_CADASTRO` will be replaced with the values of `DATA_EMISSAO_DOCUMENTO`, so that the new feature `days_since_registration` has a value of **0** when `DATA_CADASTRO` was **Unknown**"
   ]
  },
  {
   "cell_type": "code",
   "execution_count": 4,
   "metadata": {},
   "outputs": [],
   "source": [
    "X_train, X_test, y_train, y_test = preprocess.preprocess_data(df, target_name=\"INADIMPLENTE\", test_size=0.3)"
   ]
  }
 ],
 "metadata": {
  "kernelspec": {
   "display_name": "credit-env",
   "language": "python",
   "name": "python3"
  },
  "language_info": {
   "codemirror_mode": {
    "name": "ipython",
    "version": 3
   },
   "file_extension": ".py",
   "mimetype": "text/x-python",
   "name": "python",
   "nbconvert_exporter": "python",
   "pygments_lexer": "ipython3",
   "version": "3.12.7"
  }
 },
 "nbformat": 4,
 "nbformat_minor": 2
}
